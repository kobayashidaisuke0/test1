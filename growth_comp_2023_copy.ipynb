{
  "cells": [
    {
      "attachments": {},
      "cell_type": "markdown",
      "metadata": {
        "colab_type": "text",
        "id": "view-in-github"
      },
      "source": [
        "<a href=\"https://colab.research.google.com/github/tsenga2/keio-quant-macro/blob/main/growth_comp_2023.ipynb\" target=\"_parent\"><img src=\"https://colab.research.google.com/assets/colab-badge.svg\" alt=\"Open In Colab\"/></a>"
      ]
    },
    {
      "cell_type": "code",
      "execution_count": null,
      "metadata": {
        "colab": {
          "base_uri": "https://localhost:8080/"
        },
        "id": "7xY0PSws21Ex",
        "outputId": "1b1ce765-9387-4417-b371-c83e939bc6fa"
      },
      "outputs": [
        {
          "name": "stdout",
          "output_type": "stream",
          "text": [
            "                    g    dsolow         a        dk  tfp.growth  \\\n",
            "countrycode                                                       \n",
            "DEU          0.595897  0.232704  0.384552  0.967537    0.232704   \n",
            "JPN          0.752177  0.139220  0.392263  1.588331    0.139220   \n",
            "USA          1.256881  0.649874  0.387017  1.590940    0.649874   \n",
            "\n",
            "             capitakl deepning  tfp.share  capital.share  \n",
            "countrycode                                               \n",
            "DEU                   0.372068   0.390511       0.624383  \n",
            "JPN                   0.623043   0.185090       0.828320  \n",
            "USA                   0.615721   0.517053       0.489880  \n"
          ]
        }
      ],
      "source": [
        "import pandas as pd\n",
        "import numpy as np\n",
        "\n",
        "\n",
        "# Load data\n",
        "pwt90 = pd.read_stata('https://www.rug.nl/ggdc/docs/pwt90.dta')\n",
        "pwt1001 = pd.read_stata('https://dataverse.nl/api/access/datafile/354098')\n",
        "\n",
        "# Filter and select relevant columns\n",
        "data = pwt1001.loc[pwt1001['country'].isin([\"France\", \"Germany\", \"Canada\", \"Italy\", \"Japan\", \"United Kingdom\", \"United States\"])][['year', 'countrycode', 'rgdpna', 'rkna', 'emp', 'labsh']]\n",
        "data = data.loc[(data['year'] >= 1995) & (data['year'] <= 2019)].dropna()\n",
        "\n",
        "# Calculate additional columns\n",
        "data['y_pc'] = np.log(data['rgdpna'] / data['emp'])  # GDP per worker\n",
        "data['k_pc'] = np.log(data['rkna'] / data['emp'])  # Capital per worker\n",
        "data['a'] = 1 - data['labsh']  # Capital share\n",
        "\n",
        "# Order by year\n",
        "data = data.sort_values('year')\n",
        "\n",
        "# Group by isocode\n",
        "grouped_data = data.groupby('countrycode')\n",
        "\n",
        "# Calculate growth rates and Solow residual\n",
        "data['g'] = (grouped_data['y_pc'].diff() * 100)  # Growth rate of GDP per capita\n",
        "\n",
        "# Remove missing values\n",
        "data = data.dropna()\n",
        "\n",
        "# Calculate summary statistics\n",
        "summary = data.groupby('countrycode').agg({'g': 'mean',\n",
        "                                       'a': \"mean\"})\n",
        "\n",
        "# Calculate additional summary statistics\n",
        "summary['Growth Rate'] = summary['g']\n",
        "summary['TFP Growth'] = summary['tg']\n",
        "summary['Capital Deepning'] = summary['cd']\n",
        "summary['TFP Share'] = summary['ts']\n",
        "summary['Capital Share'] = summary['a']\n",
        "\n",
        "# Print output\n",
        "print(summary)"
      ]
    }
  ],
  "metadata": {
    "colab": {
      "authorship_tag": "ABX9TyONxeefWckOHQ87l6oHyff+",
      "include_colab_link": true,
      "provenance": []
    },
    "kernelspec": {
      "display_name": "Python 3",
      "name": "python3"
    },
    "language_info": {
      "name": "python"
    }
  },
  "nbformat": 4,
  "nbformat_minor": 0
}
